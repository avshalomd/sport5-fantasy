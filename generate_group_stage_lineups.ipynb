{
 "cells": [
  {
   "cell_type": "code",
   "execution_count": null,
   "id": "099efca7",
   "metadata": {},
   "outputs": [],
   "source": [
    "import pandas as pd\n",
    "from scipy.optimize import linprog\n",
    "from enum import Enum\n",
    "from pulp import *"
   ]
  },
  {
   "cell_type": "code",
   "execution_count": null,
   "id": "4f31abf0",
   "metadata": {},
   "outputs": [],
   "source": [
    "class Countries(Enum):\n",
    "    ITA = 'איטליה'\n",
    "    TUR = 'טורקיה'\n",
    "    SUI = 'שווייץ'\n",
    "    WAL = 'וויילס'\n",
    "    BEL = 'בלגיה'\n",
    "    DEN = 'דנמרק'\n",
    "    FIN = 'פינלנד'\n",
    "    RUS = 'רוסיה'\n",
    "    AUT = 'אוסטריה'\n",
    "    NED = 'הולנד'\n",
    "    MKD = 'צפון מקדוניה'\n",
    "    UKR = 'אוקראינה'\n",
    "    CRO = 'קרואטיה'\n",
    "    CZE = 'צ`כיה'\n",
    "    ENG = 'אנגליה'\n",
    "    SCO = 'סקוטלנד'\n",
    "    POL = 'פולין'\n",
    "    SVK = 'סלובקיה'\n",
    "    ESP = 'ספרד'\n",
    "    SWE = 'שבדיה'\n",
    "    FRA = 'צרפת'\n",
    "    GER = 'גרמניה'\n",
    "    HUN = 'הונגריה'\n",
    "    POR = 'פורטוגל'"
   ]
  },
  {
   "cell_type": "code",
   "execution_count": null,
   "id": "32f34529",
   "metadata": {},
   "outputs": [],
   "source": [
    "MAX_SAME_TEAM = 2"
   ]
  },
  {
   "cell_type": "code",
   "execution_count": null,
   "id": "fb41c688",
   "metadata": {},
   "outputs": [],
   "source": [
    "formation = {'GK': 1, 'D': 5, 'M': 3, 'FW': 2}"
   ]
  },
  {
   "cell_type": "code",
   "execution_count": null,
   "id": "030c9fea",
   "metadata": {},
   "outputs": [],
   "source": [
    "data = pd.read_csv('output/all_rounds_players_predicted.csv', encoding='utf-8-sig')"
   ]
  },
  {
   "cell_type": "code",
   "execution_count": null,
   "id": "bc72fabf",
   "metadata": {},
   "outputs": [],
   "source": [
    "data.head()"
   ]
  },
  {
   "cell_type": "code",
   "execution_count": null,
   "id": "fb4920d6",
   "metadata": {},
   "outputs": [],
   "source": [
    "columns = ['name', 'team', 'position', 'price', 'pred_points', 'round']\n",
    "players_attributes = data[columns].copy()"
   ]
  },
  {
   "cell_type": "code",
   "execution_count": null,
   "id": "9e8d9719",
   "metadata": {},
   "outputs": [],
   "source": [
    "positions = ['GK', 'D', 'M', 'FW']\n",
    "for position in positions:\n",
    "    players_attributes[f'is_{position}'] = players_attributes['position'] == position\n",
    "players_attributes.drop('position', axis='columns', inplace=True)"
   ]
  },
  {
   "cell_type": "code",
   "execution_count": null,
   "id": "235e388a",
   "metadata": {},
   "outputs": [],
   "source": [
    "for team in Countries:\n",
    "    players_attributes[f'is_{team.name}'] = players_attributes['team'] == team.value\n",
    "players_attributes.drop('team', axis='columns', inplace=True)"
   ]
  },
  {
   "cell_type": "code",
   "execution_count": null,
   "id": "b85a4903",
   "metadata": {},
   "outputs": [],
   "source": [
    "players_attributes.set_index('name', inplace=True)"
   ]
  },
  {
   "cell_type": "code",
   "execution_count": null,
   "id": "4e692ff7",
   "metadata": {},
   "outputs": [],
   "source": [
    "def get_optimal_lineup(players_df, round_num):\n",
    "    \n",
    "    prob = LpProblem(f\"Oplimal_Lineup_round{str(round_num)}_Problem\",LpMaximize)\n",
    "    \n",
    "    players = list(players_df.index)\n",
    "    prices = dict(zip(players,players_df['price']))\n",
    "    points = dict(zip(players,players_df['pred_points']))\n",
    "\n",
    "    positions_dicts_dict = {}\n",
    "    for position in positions:\n",
    "        positions_dicts_dict[position] = dict(zip(players,players_df[f'is_{position}']))\n",
    "\n",
    "    teams_dicts_dict = {}\n",
    "    for team in Countries:\n",
    "        teams_dicts_dict[team] = dict(zip(players,players_df[f'is_{team.name}']))\n",
    "        \n",
    "    players_vars = LpVariable.dicts(\"Players\", players, lowBound=0, upBound=1, cat='Integer')\n",
    "    prob += lpSum([points[i]*players_vars[i] for i in players])\n",
    "    prob += lpSum([prices[f] * players_vars[f] for f in players]) <= 100.0\n",
    "    \n",
    "    for position in positions:\n",
    "        prob += lpSum([(positions_dicts_dict[position])[f] * players_vars[f] for f in players]) == formation[position]\n",
    "    \n",
    "    for team in Countries:\n",
    "        prob += lpSum([(teams_dicts_dict[team])[f] * players_vars[f] for f in players]) <= MAX_SAME_TEAM\n",
    "        \n",
    "    prob.solve()\n",
    "    print(\"Status:\", LpStatus[prob.status])\n",
    "    \n",
    "    names = []\n",
    "    for v in prob.variables():\n",
    "        if v.varValue>0:\n",
    "#             print(f'name: {v.name[8:]}, amount: {v.varValue}')\n",
    "            names.append((v.name[8:]).replace('_', ' '))\n",
    "   \n",
    "    if round_num == 0:\n",
    "        lineup = players_df[players_df['round'] == round_num].loc[names]\n",
    "    else:\n",
    "        lineup = data[data['round'] == round_num].set_index('name').loc[names]\n",
    "    \n",
    "    return lineup"
   ]
  },
  {
   "cell_type": "code",
   "execution_count": null,
   "id": "5c763ab3",
   "metadata": {},
   "outputs": [],
   "source": [
    "lineups = {}\n",
    "for round_num in range(1,4):\n",
    "    players_pool = players_attributes[players_attributes['round'] == round_num].copy()\n",
    "    players_pool.drop('round', axis='columns', inplace=True)\n",
    "    lineups[f'round_{round_num}'] = get_optimal_lineup(players_pool, round_num)"
   ]
  },
  {
   "cell_type": "code",
   "execution_count": null,
   "id": "e64e1cc6",
   "metadata": {},
   "outputs": [],
   "source": [
    "columns = ['team', 'position', 'price', 'pred_points']"
   ]
  },
  {
   "cell_type": "code",
   "execution_count": null,
   "id": "603da7dd",
   "metadata": {},
   "outputs": [],
   "source": [
    "round_num = 'round_1'\n",
    "lu_price = (lineups[round_num])['price'].sum()\n",
    "lu_points = (lineups[round_num])['pred_points'].sum()\n",
    "print(f'Round # {round_num[-1:]}')\n",
    "print(f'Price: {lu_price}M$')\n",
    "print(f'Predicted points: {lu_points:.2f} Pts')\n",
    "lineup = lineups[round_num]\n",
    "lineup[columns].sort_values('position')"
   ]
  },
  {
   "cell_type": "code",
   "execution_count": null,
   "id": "41736df2",
   "metadata": {},
   "outputs": [],
   "source": [
    "round_num = 'round_2'\n",
    "lu_price = (lineups[round_num])['price'].sum()\n",
    "lu_points = (lineups[round_num])['pred_points'].sum()\n",
    "print(f'Round # {round_num[-1:]}')\n",
    "print(f'Price: {lu_price}M$')\n",
    "print(f'Predicted points: {lu_points:.2f} Pts')\n",
    "lineup = lineups[round_num]\n",
    "lineup[columns].sort_values('position')"
   ]
  },
  {
   "cell_type": "code",
   "execution_count": null,
   "id": "471e2474",
   "metadata": {},
   "outputs": [],
   "source": [
    "round_num = 'round_3'\n",
    "lu_price = (lineups[round_num])['price'].sum()\n",
    "lu_points = (lineups[round_num])['pred_points'].sum()\n",
    "print(f'Round # {round_num[-1:]}')\n",
    "print(f'Price: {lu_price}M$')\n",
    "print(f'Predicted points: {lu_points:.2f} Pts')\n",
    "lineup = lineups[round_num]\n",
    "lineup[columns].sort_values('position')"
   ]
  },
  {
   "cell_type": "markdown",
   "id": "1fc4928a",
   "metadata": {},
   "source": [
    "# All rounds aggregations"
   ]
  },
  {
   "cell_type": "code",
   "execution_count": null,
   "id": "8fe5d13b",
   "metadata": {},
   "outputs": [],
   "source": [
    "columns = ['team', 'position', 'price', 'pred_points']\n",
    "agg_players_attributes = (data.set_index('name'))[columns].groupby([data.set_index('name').index, 'position', 'team']).aggregate({'price': 'mean', 'pred_points': 'sum'})\n",
    "agg_players_attributes = agg_players_attributes.reset_index(level=['position', 'team'])\n",
    "agg_players_attributes.head()"
   ]
  },
  {
   "cell_type": "code",
   "execution_count": null,
   "id": "a125e121",
   "metadata": {},
   "outputs": [],
   "source": [
    "positions = ['GK', 'D', 'M', 'FW']\n",
    "for position in positions:\n",
    "    agg_players_attributes[f'is_{position}'] = agg_players_attributes['position'] == position\n",
    "agg_players_attributes.drop('position', axis='columns', inplace=True)"
   ]
  },
  {
   "cell_type": "code",
   "execution_count": null,
   "id": "901aa640",
   "metadata": {},
   "outputs": [],
   "source": [
    "for team in Countries:\n",
    "    agg_players_attributes[f'is_{team.name}'] = agg_players_attributes['team'] == team.value\n",
    "agg_players_attributes.drop('team', axis='columns', inplace=True)"
   ]
  },
  {
   "cell_type": "code",
   "execution_count": null,
   "id": "5d81d9bc",
   "metadata": {},
   "outputs": [],
   "source": [
    "agg_players_attributes['round'] = 0"
   ]
  },
  {
   "cell_type": "code",
   "execution_count": null,
   "id": "378a07da",
   "metadata": {},
   "outputs": [],
   "source": [
    "agg_lineup = get_optimal_lineup(agg_players_attributes, round_num=0)"
   ]
  },
  {
   "cell_type": "code",
   "execution_count": null,
   "id": "3c0ee1b1",
   "metadata": {},
   "outputs": [],
   "source": [
    "lu_price = agg_lineup['price'].sum()\n",
    "lu_points = agg_lineup['pred_points'].sum()\n",
    "print('All Rounds (aggregated lineup)')\n",
    "print(f'Price: {lu_price}M$')\n",
    "print(f'Predicted points: {lu_points:.2f} Pts')\n",
    "agg_lineup[['price', 'pred_points']]"
   ]
  },
  {
   "cell_type": "code",
   "execution_count": null,
   "id": "49d4c349",
   "metadata": {},
   "outputs": [],
   "source": []
  },
  {
   "cell_type": "code",
   "execution_count": null,
   "id": "b1c7b024",
   "metadata": {},
   "outputs": [],
   "source": []
  },
  {
   "cell_type": "code",
   "execution_count": null,
   "id": "8804bf90",
   "metadata": {},
   "outputs": [],
   "source": []
  },
  {
   "cell_type": "code",
   "execution_count": null,
   "id": "acaef208",
   "metadata": {},
   "outputs": [],
   "source": [
    "cols_to_keep = ['name', 'position', 'price', 'pred_points', 'team', 'pred_score', 'opponent', 'Rating', 'Mins_percentage', 'GnA_percentage', 'is_starter', 'round']\n",
    "filtered_data = data[cols_to_keep].copy()"
   ]
  },
  {
   "cell_type": "code",
   "execution_count": null,
   "id": "e8e718a3",
   "metadata": {},
   "outputs": [],
   "source": [
    "filtered_data = filtered_data[filtered_data['is_starter'] == 1]\n",
    "filtered_data.drop(columns=['is_starter'], inplace=True)\n",
    "filtered_data = filtered_data[filtered_data['price'] > 3]\n",
    "goalkeepers_pool = filtered_data[filtered_data['position'] == 'GK']\n",
    "defenders_pool = filtered_data[filtered_data['position'] == 'D']\n",
    "midfielders_pool = filtered_data[filtered_data['position'] == 'M']\n",
    "forwards_pool = filtered_data[filtered_data['position'] == 'FW']"
   ]
  },
  {
   "cell_type": "code",
   "execution_count": null,
   "id": "c927c70c",
   "metadata": {},
   "outputs": [],
   "source": [
    "goalkeepers_pool = goalkeepers_pool[goalkeepers_pool['Rating'] >= 6.3]\n",
    "goalkeepers_pool.sort_values('pred_points', ascending=False).head()"
   ]
  },
  {
   "cell_type": "code",
   "execution_count": null,
   "id": "6ca0696e",
   "metadata": {},
   "outputs": [],
   "source": [
    "defenders_pool = defenders_pool[defenders_pool['Rating'] > defenders_pool['Rating'].mean()]\n",
    "defenders_pool = defenders_pool[defenders_pool['GnA_percentage'] > 0]\n",
    "defenders_pool.sort_values('pred_points', ascending=False).head()"
   ]
  },
  {
   "cell_type": "code",
   "execution_count": null,
   "id": "07dd4440",
   "metadata": {},
   "outputs": [],
   "source": [
    "midfielders_pool = midfielders_pool[midfielders_pool['Rating'] > midfielders_pool['Rating'].mean()]\n",
    "midfielders_pool = midfielders_pool[midfielders_pool['GnA_percentage'] > 0]\n",
    "midfielders_pool.sort_values('pred_points', ascending=False).head()"
   ]
  },
  {
   "cell_type": "code",
   "execution_count": null,
   "id": "3772c0ee",
   "metadata": {},
   "outputs": [],
   "source": [
    "forwards_pool = forwards_pool[forwards_pool['Rating'] > forwards_pool['Rating'].mean()]\n",
    "forwards_pool = forwards_pool[forwards_pool['GnA_percentage'] >= 0.1]\n",
    "forwards_pool.sort_values('pred_points', ascending=False).head()"
   ]
  },
  {
   "cell_type": "code",
   "execution_count": null,
   "id": "3308480b",
   "metadata": {},
   "outputs": [],
   "source": [
    "filtered_data = pd.concat([goalkeepers_pool, defenders_pool, midfielders_pool, forwards_pool])\n",
    "filtered_data"
   ]
  },
  {
   "cell_type": "code",
   "execution_count": null,
   "id": "f292474d",
   "metadata": {},
   "outputs": [],
   "source": [
    "columns = ['name', 'team', 'position', 'price', 'pred_points', 'round']\n",
    "players_attributes = filtered_data[columns].copy()"
   ]
  },
  {
   "cell_type": "code",
   "execution_count": null,
   "id": "1892caa6",
   "metadata": {},
   "outputs": [],
   "source": [
    "positions = ['GK', 'D', 'M', 'FW']\n",
    "for position in positions:\n",
    "    players_attributes[f'is_{position}'] = players_attributes['position'] == position\n",
    "players_attributes.drop('position', axis='columns', inplace=True)"
   ]
  },
  {
   "cell_type": "code",
   "execution_count": null,
   "id": "122a434a",
   "metadata": {},
   "outputs": [],
   "source": [
    "for team in Countries:\n",
    "    players_attributes[f'is_{team.name}'] = players_attributes['team'] == team.value\n",
    "players_attributes.drop('team', axis='columns', inplace=True)"
   ]
  },
  {
   "cell_type": "code",
   "execution_count": null,
   "id": "5b35b94e",
   "metadata": {},
   "outputs": [],
   "source": [
    "players_attributes_r1 = players_attributes[players_attributes['round'] == 1]\n",
    "# players_attributes_r1.set_index(['name', 'price'], inplace=True)\n",
    "players_attributes_r1.drop('round', axis='columns', inplace=True)\n",
    "for col in players_attributes_r1.columns:\n",
    "    players_attributes_r1.rename({col: f'r1_{col}'}, axis='columns', inplace=True)"
   ]
  },
  {
   "cell_type": "code",
   "execution_count": null,
   "id": "05fed816",
   "metadata": {},
   "outputs": [],
   "source": [
    "players_attributes_r2 = players_attributes[players_attributes['round'] == 2]\n",
    "# players_attributes_r2.set_index(['name', 'price'], inplace=True)\n",
    "players_attributes_r2.drop('round', axis='columns', inplace=True)\n",
    "for col in players_attributes_r2.columns:\n",
    "    players_attributes_r2.rename({col: f'r2_{col}'}, axis='columns', inplace=True)"
   ]
  },
  {
   "cell_type": "code",
   "execution_count": null,
   "id": "c5b84816",
   "metadata": {},
   "outputs": [],
   "source": [
    "players_attributes_r3 = players_attributes[players_attributes['round'] == 3]\n",
    "# players_attributes_r3.set_index(['name', 'price'], inplace=True)\n",
    "players_attributes_r3.drop('round', axis='columns', inplace=True)\n",
    "for col in players_attributes_r3.columns:\n",
    "    players_attributes_r3.rename({col: f'r3_{col}'}, axis='columns', inplace=True)"
   ]
  },
  {
   "cell_type": "code",
   "execution_count": null,
   "id": "b2ed32ad",
   "metadata": {},
   "outputs": [],
   "source": [
    "players_attributes_r1"
   ]
  },
  {
   "cell_type": "code",
   "execution_count": null,
   "id": "58407c3f",
   "metadata": {},
   "outputs": [],
   "source": [
    "columns = [*players_attributes_r1.columns, *players_attributes_r2.columns, *players_attributes_r3.columns]\n",
    "routes_df = pd.DataFrame(columns=columns)\n",
    "for index, row_r1 in players_attributes_r1.iterrows():\n",
    "    for index, row_r2 in players_attributes_r2.iterrows():\n",
    "        new_row = pd.concat([row_r1, row_r2])\n",
    "        routes_df.append(new_row, ignore_index=True)\n",
    "#         for index, row_r3 in players_attributes_r3.iterrows():\n",
    "#             new_row = pd.concat([row_r1, row_r2, row_r3])\n",
    "#             routes_df.append(new_row, ignore_index=True)"
   ]
  },
  {
   "cell_type": "code",
   "execution_count": null,
   "id": "b61216ee",
   "metadata": {},
   "outputs": [],
   "source": [
    "routes_df"
   ]
  },
  {
   "cell_type": "code",
   "execution_count": null,
   "id": "3a41fb28",
   "metadata": {},
   "outputs": [],
   "source": []
  }
 ],
 "metadata": {
  "kernelspec": {
   "display_name": "Python 3",
   "language": "python",
   "name": "python3"
  },
  "language_info": {
   "codemirror_mode": {
    "name": "ipython",
    "version": 3
   },
   "file_extension": ".py",
   "mimetype": "text/x-python",
   "name": "python",
   "nbconvert_exporter": "python",
   "pygments_lexer": "ipython3",
   "version": "3.9.5"
  }
 },
 "nbformat": 4,
 "nbformat_minor": 5
}
